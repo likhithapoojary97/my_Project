{
  "cells": [
    {
      "cell_type": "markdown",
      "id": "d6ed9db2-b444-4e47-a31a-0f61f24b3c3b",
      "metadata": {
        "id": "d6ed9db2-b444-4e47-a31a-0f61f24b3c3b"
      },
      "source": [
        "# Problem Statement\n",
        "- Startup developed a light weight water bottle\n",
        "- Target Audience - School Kids aged 6-16.\n",
        "- As a Marketing Associate, identify the most effective channels and craft compelling content\n",
        "- Budget - 2000 USD\n",
        "\n",
        "Build an agentic system that can help with the same using sequential chat."
      ]
    },
    {
      "cell_type": "code",
      "execution_count": null,
      "id": "1dc3c288-e990-413d-ac71-1d8fb9a973b5",
      "metadata": {
        "id": "1dc3c288-e990-413d-ac71-1d8fb9a973b5",
        "outputId": "4ee37bad-78c6-41b6-dff9-324331a3dd88"
      },
      "outputs": [
        {
          "name": "stderr",
          "output_type": "stream",
          "text": [
            "D:\\software\\Lib\\site-packages\\pydantic\\_internal\\_fields.py:132: UserWarning: Field \"model_client_cls\" in LLMConfigEntry has conflict with protected namespace \"model_\".\n",
            "\n",
            "You may be able to resolve this warning by setting `model_config['protected_namespaces'] = ()`.\n",
            "  warnings.warn(\n",
            "D:\\software\\Lib\\site-packages\\paramiko\\transport.py:219: CryptographyDeprecationWarning: Blowfish has been deprecated and will be removed in a future release\n",
            "  \"class\": algorithms.Blowfish,\n",
            "D:\\software\\Lib\\site-packages\\pydantic\\_internal\\_fields.py:132: UserWarning: Field \"model_client_cls\" in AnthropicLLMConfigEntry has conflict with protected namespace \"model_\".\n",
            "\n",
            "You may be able to resolve this warning by setting `model_config['protected_namespaces'] = ()`.\n",
            "  warnings.warn(\n",
            "D:\\software\\Lib\\site-packages\\pydantic\\_internal\\_fields.py:132: UserWarning: Field \"model_client_cls\" in BedrockLLMConfigEntry has conflict with protected namespace \"model_\".\n",
            "\n",
            "You may be able to resolve this warning by setting `model_config['protected_namespaces'] = ()`.\n",
            "  warnings.warn(\n",
            "D:\\software\\Lib\\site-packages\\pydantic\\_internal\\_fields.py:132: UserWarning: Field \"model_client_cls\" in CerebrasLLMConfigEntry has conflict with protected namespace \"model_\".\n",
            "\n",
            "You may be able to resolve this warning by setting `model_config['protected_namespaces'] = ()`.\n",
            "  warnings.warn(\n",
            "D:\\software\\Lib\\site-packages\\pydantic\\_internal\\_fields.py:132: UserWarning: Field \"model_client_cls\" in GeminiLLMConfigEntry has conflict with protected namespace \"model_\".\n",
            "\n",
            "You may be able to resolve this warning by setting `model_config['protected_namespaces'] = ()`.\n",
            "  warnings.warn(\n",
            "D:\\software\\Lib\\site-packages\\pydantic\\_internal\\_fields.py:132: UserWarning: Field \"model_client_cls\" in GroqLLMConfigEntry has conflict with protected namespace \"model_\".\n",
            "\n",
            "You may be able to resolve this warning by setting `model_config['protected_namespaces'] = ()`.\n",
            "  warnings.warn(\n",
            "D:\\software\\Lib\\site-packages\\pydantic\\_internal\\_fields.py:132: UserWarning: Field \"model_client_cls\" in OllamaLLMConfigEntry has conflict with protected namespace \"model_\".\n",
            "\n",
            "You may be able to resolve this warning by setting `model_config['protected_namespaces'] = ()`.\n",
            "  warnings.warn(\n",
            "D:\\software\\Lib\\site-packages\\pydantic\\_internal\\_fields.py:132: UserWarning: Field \"model_client_cls\" in OpenAILLMConfigEntry has conflict with protected namespace \"model_\".\n",
            "\n",
            "You may be able to resolve this warning by setting `model_config['protected_namespaces'] = ()`.\n",
            "  warnings.warn(\n",
            "D:\\software\\Lib\\site-packages\\pydantic\\_internal\\_fields.py:132: UserWarning: Field \"model_client_cls\" in AzureOpenAILLMConfigEntry has conflict with protected namespace \"model_\".\n",
            "\n",
            "You may be able to resolve this warning by setting `model_config['protected_namespaces'] = ()`.\n",
            "  warnings.warn(\n",
            "D:\\software\\Lib\\site-packages\\pydantic\\_internal\\_fields.py:132: UserWarning: Field \"model_client_cls\" in DeepSeekLLMConfigEntry has conflict with protected namespace \"model_\".\n",
            "\n",
            "You may be able to resolve this warning by setting `model_config['protected_namespaces'] = ()`.\n",
            "  warnings.warn(\n",
            "D:\\software\\Lib\\site-packages\\pydantic\\_internal\\_fields.py:132: UserWarning: Field \"model_client_cls\" in CohereLLMConfigEntry has conflict with protected namespace \"model_\".\n",
            "\n",
            "You may be able to resolve this warning by setting `model_config['protected_namespaces'] = ()`.\n",
            "  warnings.warn(\n",
            "D:\\software\\Lib\\site-packages\\pydantic\\_internal\\_fields.py:132: UserWarning: Field \"model_client_cls\" in MistralLLMConfigEntry has conflict with protected namespace \"model_\".\n",
            "\n",
            "You may be able to resolve this warning by setting `model_config['protected_namespaces'] = ()`.\n",
            "  warnings.warn(\n",
            "D:\\software\\Lib\\site-packages\\pydantic\\_internal\\_fields.py:132: UserWarning: Field \"model_client_cls\" in TogetherLLMConfigEntry has conflict with protected namespace \"model_\".\n",
            "\n",
            "You may be able to resolve this warning by setting `model_config['protected_namespaces'] = ()`.\n",
            "  warnings.warn(\n"
          ]
        }
      ],
      "source": [
        "import autogen\n",
        "from autogen import AssistantAgent\n",
        "from IPython.display import display, Markdown"
      ]
    },
    {
      "cell_type": "code",
      "execution_count": null,
      "id": "f455a34e-dbf1-428c-9f5a-d7495330899b",
      "metadata": {
        "id": "f455a34e-dbf1-428c-9f5a-d7495330899b",
        "outputId": "d5a23875-f91d-4e60-8e23-c010f44c780a"
      },
      "outputs": [
        {
          "name": "stdin",
          "output_type": "stream",
          "text": [
            "Enter your api key here :  ········\n"
          ]
        }
      ],
      "source": [
        "from getpass import getpass\n",
        "OPENAI_KEY = getpass(\"Enter your api key here : \")"
      ]
    },
    {
      "cell_type": "code",
      "execution_count": null,
      "id": "740c6f28-92fc-4b7c-8507-eff11a0306da",
      "metadata": {
        "id": "740c6f28-92fc-4b7c-8507-eff11a0306da"
      },
      "outputs": [],
      "source": [
        "import os\n",
        "os.environ[\"OPENAI_API_KEY\"] = OPENAI_KEY"
      ]
    },
    {
      "cell_type": "markdown",
      "id": "641ec893-954f-42f5-ba76-e9006163ad98",
      "metadata": {
        "id": "641ec893-954f-42f5-ba76-e9006163ad98"
      },
      "source": [
        "# Sequential Chat"
      ]
    },
    {
      "cell_type": "code",
      "execution_count": null,
      "id": "391167fc-575a-45c0-ac97-4b7e4f386e9d",
      "metadata": {
        "id": "391167fc-575a-45c0-ac97-4b7e4f386e9d"
      },
      "outputs": [],
      "source": [
        "#strategy_config_list = {\n",
        " #   \"config_list\": [{\"model\": \"gpt-4o-mini\", \"temperature\": 0.3}]\n",
        "#}\n",
        "\n",
        "strategy_config_list = {\n",
        "    \"config_list\": [{\"model\": \"gpt-4o-mini\"}]\n",
        "}"
      ]
    },
    {
      "cell_type": "code",
      "execution_count": null,
      "id": "03e214cf-e525-436e-a7ab-d30d215c7f09",
      "metadata": {
        "id": "03e214cf-e525-436e-a7ab-d30d215c7f09"
      },
      "outputs": [],
      "source": [
        "#!pip install ag2[openai]"
      ]
    },
    {
      "cell_type": "code",
      "execution_count": null,
      "id": "e0550850-9fdf-4761-aa1f-30efc7b8e95b",
      "metadata": {
        "id": "e0550850-9fdf-4761-aa1f-30efc7b8e95b"
      },
      "outputs": [],
      "source": [
        "#!pip show openai"
      ]
    },
    {
      "cell_type": "code",
      "execution_count": null,
      "id": "9bec3338-c755-4df7-afb9-5c7b70d4fc28",
      "metadata": {
        "id": "9bec3338-c755-4df7-afb9-5c7b70d4fc28"
      },
      "outputs": [],
      "source": [
        "#!pip install --upgrade openai"
      ]
    },
    {
      "cell_type": "code",
      "execution_count": null,
      "id": "04c96f07-8607-4ff3-97c6-f9e2a66c9b22",
      "metadata": {
        "id": "04c96f07-8607-4ff3-97c6-f9e2a66c9b22"
      },
      "outputs": [],
      "source": [
        "strategy_creator = autogen.AssistantAgent(\n",
        "    name=\"strategy_creator\",\n",
        "    llm_config=strategy_config_list,\n",
        "    system_message=\"\"\"\"You are a logical marketing manager tasked with crafting a marketing strategy.\n",
        "    Gather details on the product, target audience, and budget. Then identify the best marketing channels\n",
        "    which will get that product maximum visibility.\"\n",
        "    \"\"\"\n",
        ")"
      ]
    },
    {
      "cell_type": "code",
      "execution_count": null,
      "id": "c4f6fac1-c167-413f-8eaa-72668177dfd6",
      "metadata": {
        "id": "c4f6fac1-c167-413f-8eaa-72668177dfd6"
      },
      "outputs": [],
      "source": [
        "content_config_list = {\n",
        "    \"config_list\": [{\"model\": \"gpt-4o-mini\"}]\n",
        "}"
      ]
    },
    {
      "cell_type": "code",
      "execution_count": null,
      "id": "c742ace9-0527-4ff8-9b82-471e87860058",
      "metadata": {
        "id": "c742ace9-0527-4ff8-9b82-471e87860058"
      },
      "outputs": [],
      "source": [
        "content_creator = autogen.AssistantAgent(\n",
        "    name=\"content_creator\",\n",
        "    llm_config=content_config_list,\n",
        "    system_message=\"\"\"\"You are Content Executor, a creative AI agent.\n",
        "    Your task is to craft engaging, channel-specific content that aligns with the marketing strategy,\n",
        "    ensuring it captures attention and resonates with the target audience.\"\n",
        "    \"\"\"\n",
        ")"
      ]
    },
    {
      "cell_type": "markdown",
      "id": "4700697f-3a1d-4f79-946b-e737681785eb",
      "metadata": {
        "id": "4700697f-3a1d-4f79-946b-e737681785eb"
      },
      "source": [
        "Define the user proxy agent:\n",
        "1. Save UserProxyAgent in the user_proxy variable and name it \"User\".\n",
        "2. **human_input_mode** - Sets  frequency at which the user can input.\n",
        "3. **is_termination_msg** - A lambda function which determines whether a message is a termination message. In our case:\n",
        "    - The message has content (x.get(\"content\", \"\")), and\n",
        "    - The content ends with the string \"TERMINATE\" after stripping any trailing whitespace.\n",
        "4. Finally **code_execution=False** disables code execution capability for this proxy agent."
      ]
    },
    {
      "cell_type": "code",
      "execution_count": null,
      "id": "3da047fa-54d9-42f5-be37-65dea4154204",
      "metadata": {
        "id": "3da047fa-54d9-42f5-be37-65dea4154204"
      },
      "outputs": [],
      "source": [
        "user_proxy = autogen.UserProxyAgent(\n",
        "    name=\"User\",\n",
        "    human_input_mode=\"ALWAYS\",\n",
        "    is_termination_msg=lambda x: x.get(\"content\", \"\") and x.get(\"content\", \"\").rstrip().endswith(\"TERMINATE\"),\n",
        "    code_execution_config=False)"
      ]
    },
    {
      "cell_type": "code",
      "execution_count": null,
      "id": "653e0914-ea67-4e63-afc9-8178dce3c52f",
      "metadata": {
        "id": "653e0914-ea67-4e63-afc9-8178dce3c52f"
      },
      "outputs": [],
      "source": [
        "product_details = [\n",
        "    \"\"\"Water bottle for school children under the age of 16 years. The marketing budget is 2000 USD\"\"\",\n",
        "]"
      ]
    },
    {
      "cell_type": "code",
      "execution_count": null,
      "id": "831701b2-4cd0-4052-a683-215b6a2eee48",
      "metadata": {
        "id": "831701b2-4cd0-4052-a683-215b6a2eee48"
      },
      "outputs": [],
      "source": [
        "writing_task = [\"\"\"Write an engaging content for the mentioned product and channel\"\"\"]"
      ]
    },
    {
      "cell_type": "markdown",
      "id": "c526e365-d6d3-4b31-bf32-66b8feff4613",
      "metadata": {
        "id": "c526e365-d6d3-4b31-bf32-66b8feff4613"
      },
      "source": [
        "![Screenshot 2025-01-03 at 5.41.45 PM.png](attachment:78f2dad9-5393-4a2e-8a47-31b0efb6ba0d.png)"
      ]
    },
    {
      "cell_type": "markdown",
      "id": "10d0f4e6-ff41-432a-bf84-21e90b1790ef",
      "metadata": {
        "id": "10d0f4e6-ff41-432a-bf84-21e90b1790ef"
      },
      "source": [
        "1. First, **user_proxy** agent sends the message to **strategy_creator** agent. The message sent by user_proxy agent is saved in the \"product_details\" list. We will be clearing the history of the conversation and printing the the conversation between the agents by setting \"silence=False\".\n",
        "\n",
        "2. Then the summary of the chat above is carried over to the next conversation which happens between the **user_proxy** agent and **content_creator** agent. The user_proxy agent sends the message stored in the \"writer_task\" skill. And we generate the summary as the last message."
      ]
    },
    {
      "cell_type": "code",
      "execution_count": null,
      "id": "5b75c664-6403-4bd0-82e9-b3352812ae14",
      "metadata": {
        "id": "5b75c664-6403-4bd0-82e9-b3352812ae14",
        "outputId": "dbf12efe-a659-463a-f42f-892c7903d389"
      },
      "outputs": [
        {
          "name": "stdout",
          "output_type": "stream",
          "text": [
            "\u001b[34m\n",
            "********************************************************************************\u001b[0m\n",
            "\u001b[34mStarting a new chat....\u001b[0m\n",
            "\u001b[34m\n",
            "********************************************************************************\u001b[0m\n",
            "\u001b[33mUser\u001b[0m (to strategy_creator):\n",
            "\n",
            "Water bottle for school children under the age of 16 years. The marketing budget is 2000 USD\n",
            "\n",
            "--------------------------------------------------------------------------------\n",
            "\u001b[33mstrategy_creator\u001b[0m (to User):\n",
            "\n",
            "Great! Let’s develop a targeted marketing strategy for the water bottle designed for school children under the age of 16.\n",
            "\n",
            "### Product Overview\n",
            "- **Product**: Water Bottle\n",
            "- **Target Audience**: School children under 16 years, along with parents and guardians who make purchasing decisions.\n",
            "  \n",
            "### Target Audience Analysis\n",
            "1. **Age Group**: Primary school (5-11 years) and secondary school (12-16 years) students.\n",
            "2. **Parents**: Key decision-makers for purchases, particularly for younger children.\n",
            "3. **Educators**: Schools and teachers who can influence purchases through recommendations.\n",
            "\n",
            "### Unique Selling Proposition (USP)\n",
            "- Durable, lightweight, and kid-friendly design.\n",
            "- Fun colors and customizable options (e.g., stickers or name tags).\n",
            "- Eco-friendly materials (if applicable) to appeal to environmentally conscious parents.\n",
            "- Features such as built-in straws or sippy lids for convenience.\n",
            "\n",
            "### Marketing Budget: $2000\n",
            "- **Product Development and Packaging**: $500\n",
            "- **Digital Marketing**: $700\n",
            "- **Influencer Collaborations**: $400\n",
            "- **Contests/Giveaways**: $200\n",
            "- **Offline Marketing (School Flyers/Events)**: $200\n",
            "\n",
            "### Digital Marketing Channels\n",
            "1. **Social Media Marketing**:\n",
            "   - Platforms: Instagram and Facebook targeting parents, TikTok for children-focused content.\n",
            "   - Content: Engaging visuals of kids using the water bottle, emphasizing usability and fun designs.\n",
            "   - Ads: Focused Facebook and Instagram ads for targeted demographics.\n",
            "\n",
            "2. **Influencer Marketing**:\n",
            "   - Collaborate with parenting bloggers and local influencers who focus on family and children’s products.\n",
            "   - Offer them free products in exchange for honest reviews and mentions in their content.\n",
            "\n",
            "3. **Email Marketing**:\n",
            "   - Create a simple website or landing page for the water bottle.\n",
            "   - Collect emails by offering a discount or making a pledge to reduce plastic waste.\n",
            "   - Send informative emails to parents regarding the importance of hydration for kids and showcasing the product.\n",
            "\n",
            "### Offline Marketing Channels\n",
            "1. **School Partnerships**:\n",
            "   - Reach out to local schools to get permission to distribute flyers or promotional materials.\n",
            "   - Consider sponsoring school events or sports days and providing the product as a prize.\n",
            "\n",
            "2. **Contests and Giveaways**:\n",
            "   - Host contests on social media where parents can share photos of their kids using the water bottle. Offer feature spots or small prizes to engage more users.\n",
            "\n",
            "### Implementation Plan\n",
            "1. **Website and Digital Identity**: Create an appealing website or social media page showcasing the product.\n",
            "2. **Social Media Post Schedule**: Regularly post engaging content and stories, focusing on hydration tips, water bottle features, and user testimonials.\n",
            "3. **Email Campaign Launch**: Set up an email funnel to introduce the product, market benefits, and maintain engagement.\n",
            "\n",
            "### Performance Metrics\n",
            "- Monitor social media engagement rates (likes, shares, comments).\n",
            "- Track website traffic and email open rates.\n",
            "- Measure sales conversions during the campaign period.\n",
            "\n",
            "By focusing on both online and offline channels, we'll maximize visibility and appeal to parents while ensuring that the children recognize the fun aspects of the water bottle.\n",
            "\n",
            "--------------------------------------------------------------------------------\n"
          ]
        },
        {
          "name": "stdin",
          "output_type": "stream",
          "text": [
            "Replying as User. Provide feedback to strategy_creator. Press enter to skip and use auto-reply, or type 'exit' to end the conversation:  The sum of budget allocated has exceeded by 100 USD.\n"
          ]
        },
        {
          "name": "stdout",
          "output_type": "stream",
          "text": [
            "\u001b[33mUser\u001b[0m (to strategy_creator):\n",
            "\n",
            "The sum of budget allocated has exceeded by 100 USD.\n",
            "\n",
            "--------------------------------------------------------------------------------\n",
            "\u001b[33mstrategy_creator\u001b[0m (to User):\n",
            "\n",
            "Thank you for the clarification! Let’s revise the budget to ensure that it totals $2000 while maintaining an effective marketing strategy.\n",
            "\n",
            "### Revised Budget Breakdown\n",
            "\n",
            "- **Product Development and Packaging**: $400 \n",
            "  - (Reduced from $500 to allocate funds elsewhere)\n",
            "- **Digital Marketing**: $600 \n",
            "  - (Reduced from $700)\n",
            "- **Influencer Collaborations**: $400 \n",
            "  - (Remains the same)\n",
            "- **Contests/Giveaways**: $300 \n",
            "  - (Increased to allow for more engaging activities)\n",
            "- **Offline Marketing (School Flyers/Events)**: $300 \n",
            "  - (Increased to allow for materials or small sponsorships)\n",
            "\n",
            "### Total: $2000\n",
            "\n",
            "### Marketing Strategy Using Revised Budget\n",
            "\n",
            "1. **Digital Marketing:**\n",
            "   - Continue focusing on social media channels (Instagram, Facebook, and TikTok). Create a content calendar that ensures consistent posting but at a reduced ad spend.\n",
            "   - Use organic reach through engaging posts, stories, and user-generated content while dedicating a smaller budget for boosting select posts.\n",
            "\n",
            "2. **Influencer Marketing:**\n",
            "   - Leverage micro-influencers, who may charge lower fees or be open to partnerships in exchange for free products. This allows you to maintain a budget-friendly approach while reaching niche markets.\n",
            "\n",
            "3. **Contests and Giveaways:**\n",
            "   - Increase the budget for contests to encourage sharing and engagement. This will create buzz and drive traffic while incentivizing parents to involve their kids.\n",
            "\n",
            "4. **Offline Marketing:**\n",
            "   - With the adjusted funding, you will have more capacity to design attractive flyers and possibly establish contact with local schools for collaborative opportunities for sponsorships or product testing events.\n",
            "\n",
            "### Implementation Tips\n",
            "- Focus on impactful visuals for digital and offline materials that appeal to both children and parents.\n",
            "- Use community-oriented content that emphasizes the benefits of hydration for kids, especially in school settings.\n",
            "- Monitor budget allocation closely throughout the campaign to ensure no category exceeds its allocated funds.\n",
            "\n",
            "By adjusting the budget allocation without compromising the overall marketing approach, we can effectively reach the target audience and maximize visibility for the water bottle.\n",
            "\n",
            "--------------------------------------------------------------------------------\n"
          ]
        },
        {
          "name": "stdin",
          "output_type": "stream",
          "text": [
            "Replying as User. Provide feedback to strategy_creator. Press enter to skip and use auto-reply, or type 'exit' to end the conversation:  exit\n"
          ]
        },
        {
          "name": "stdout",
          "output_type": "stream",
          "text": [
            "\u001b[31m\n",
            ">>>>>>>> TERMINATING RUN (68b4b3dc-e6a0-4ace-91a9-5510f367e47b): User requested to end the conversation\u001b[0m\n",
            "\u001b[34m\n",
            "********************************************************************************\u001b[0m\n",
            "\u001b[34mStarting a new chat....\u001b[0m\n",
            "\u001b[34m\n",
            "********************************************************************************\u001b[0m\n",
            "\u001b[33mUser\u001b[0m (to content_creator):\n",
            "\n",
            "Write an engaging content for the mentioned product and channel\n",
            "Context: \n",
            "Thank you for the clarification! Let’s revise the budget to ensure that it totals $2000 while maintaining an effective marketing strategy.\n",
            "\n",
            "### Revised Budget Breakdown\n",
            "\n",
            "- **Product Development and Packaging**: $400 \n",
            "  - (Reduced from $500 to allocate funds elsewhere)\n",
            "- **Digital Marketing**: $600 \n",
            "  - (Reduced from $700)\n",
            "- **Influencer Collaborations**: $400 \n",
            "  - (Remains the same)\n",
            "- **Contests/Giveaways**: $300 \n",
            "  - (Increased to allow for more engaging activities)\n",
            "- **Offline Marketing (School Flyers/Events)**: $300 \n",
            "  - (Increased to allow for materials or small sponsorships)\n",
            "\n",
            "### Total: $2000\n",
            "\n",
            "### Marketing Strategy Using Revised Budget\n",
            "\n",
            "1. **Digital Marketing:**\n",
            "   - Continue focusing on social media channels (Instagram, Facebook, and TikTok). Create a content calendar that ensures consistent posting but at a reduced ad spend.\n",
            "   - Use organic reach through engaging posts, stories, and user-generated content while dedicating a smaller budget for boosting select posts.\n",
            "\n",
            "2. **Influencer Marketing:**\n",
            "   - Leverage micro-influencers, who may charge lower fees or be open to partnerships in exchange for free products. This allows you to maintain a budget-friendly approach while reaching niche markets.\n",
            "\n",
            "3. **Contests and Giveaways:**\n",
            "   - Increase the budget for contests to encourage sharing and engagement. This will create buzz and drive traffic while incentivizing parents to involve their kids.\n",
            "\n",
            "4. **Offline Marketing:**\n",
            "   - With the adjusted funding, you will have more capacity to design attractive flyers and possibly establish contact with local schools for collaborative opportunities for sponsorships or product testing events.\n",
            "\n",
            "### Implementation Tips\n",
            "- Focus on impactful visuals for digital and offline materials that appeal to both children and parents.\n",
            "- Use community-oriented content that emphasizes the benefits of hydration for kids, especially in school settings.\n",
            "- Monitor budget allocation closely throughout the campaign to ensure no category exceeds its allocated funds.\n",
            "\n",
            "By adjusting the budget allocation without compromising the overall marketing approach, we can effectively reach the target audience and maximize visibility for the water bottle.\n",
            "\n",
            "--------------------------------------------------------------------------------\n",
            "\u001b[33mcontent_creator\u001b[0m (to User):\n",
            "\n",
            "### Target Audience: Parents of Kids 6-12 Years Old\n",
            "### Product: Eco-Friendly Kids Water Bottle\n",
            "### Channel: Instagram\n",
            "\n",
            "---\n",
            "\n",
            "🌟 **Hydration Heroes Unite!** 🌟\n",
            "\n",
            "As parents, we all want our kids to stay active, healthy, and hydrated! 🌊💦 Introducing our Eco-Friendly Kids Water Bottle — the perfect companion for every adventure, from school days to weekend outings. \n",
            "\n",
            "But wait, we're sweetening the deal! 🎉\n",
            "\n",
            "✨ **Join Our Fun-Filled Giveaway!** ✨  \n",
            "We're on a mission to keep every child hydrated, and we need your help! Enter to win 1 of 5 free Eco-Friendly Kids Water Bottles that come in vibrant colors and fun designs! \n",
            "\n",
            "**How to Enter:**  \n",
            "1️⃣ Follow us on Instagram  \n",
            "2️⃣ Like this post  \n",
            "3️⃣ Tag 3 friends & share your kiddo’s favorite hydration moment in the comments! 💬\n",
            "\n",
            "🌱 **Why Choose Us?** \n",
            "Our bottles are not only designed with fun in mind, but they are also made of sustainable materials that are safe for your little ones and the planet! Encourage your kids to drink up with the stylish designs that make hydration cool! 🤩\n",
            "\n",
            "📅 **Gain More Chances to Win!**  \n",
            "For every entry you submit, you’ll also receive an extra boost when you share this post in your stories — just remember to tag us! \n",
            "\n",
            "📚 **Offline Touchpoint:**  \n",
            "We’re excited to partner with local schools to bring awareness about staying hydrated! Keep an eye out for our colorful flyers and donations to support school events!\n",
            "\n",
            "Let’s make hydration a fun and eco-friendly adventure together! Ready to let your child shine as a Hydration Hero? Get started now!\n",
            "\n",
            "ℹ️ **Contest Ends:** [Insert Date]  \n",
            "🔗 **Link in Bio for Terms & Conditions**\n",
            "\n",
            "---\n",
            "\n",
            "**Implementation Tip:** Use vibrant images of kids enjoying the water bottles in various settings (school, park, sports) and create Instagram Stories highlighting hydration tips for kids. This will not only resonate with parents but also align perfectly with our eco-friendly message!\n",
            "\n",
            "--------------------------------------------------------------------------------\n"
          ]
        },
        {
          "name": "stdin",
          "output_type": "stream",
          "text": [
            "Replying as User. Provide feedback to content_creator. Press enter to skip and use auto-reply, or type 'exit' to end the conversation:  exit\n"
          ]
        },
        {
          "name": "stdout",
          "output_type": "stream",
          "text": [
            "\u001b[31m\n",
            ">>>>>>>> TERMINATING RUN (eaa5d3e7-3e1e-49f8-80d1-b69a8eed237b): User requested to end the conversation\u001b[0m\n"
          ]
        }
      ],
      "source": [
        "chat_results = autogen.initiate_chats(\n",
        "    [\n",
        "        {\n",
        "            \"sender\": user_proxy,\n",
        "            \"recipient\": strategy_creator,\n",
        "            \"message\": product_details[0],\n",
        "            \"clear_history\": True,\n",
        "            \"silent\": False,\n",
        "            \"summary_method\": \"last_msg\",\n",
        "        },\n",
        "        {\n",
        "            \"sender\": user_proxy,\n",
        "            \"recipient\": content_creator,\n",
        "            \"message\": writing_task[0],\n",
        "            \"summary_method\": \"last_msg\",\n",
        "        },\n",
        "    ]\n",
        ")"
      ]
    },
    {
      "cell_type": "code",
      "execution_count": null,
      "id": "feafb6c0-8630-40a2-8a02-350ea9797d37",
      "metadata": {
        "id": "feafb6c0-8630-40a2-8a02-350ea9797d37",
        "outputId": "eda41352-625e-4920-96ab-a00c38157078"
      },
      "outputs": [
        {
          "data": {
            "text/plain": [
              "2"
            ]
          },
          "execution_count": 23,
          "metadata": {},
          "output_type": "execute_result"
        }
      ],
      "source": [
        "len(chat_results)"
      ]
    },
    {
      "cell_type": "code",
      "execution_count": null,
      "id": "9e320817-54d5-40ed-a2d3-8db76e65b346",
      "metadata": {
        "id": "9e320817-54d5-40ed-a2d3-8db76e65b346",
        "outputId": "1809b1f1-9b07-49f7-9ed9-82646a8edfb6"
      },
      "outputs": [
        {
          "data": {
            "text/markdown": [
              "Thank you for the clarification! Let’s revise the budget to ensure that it totals $2000 while maintaining an effective marketing strategy.\n",
              "\n",
              "### Revised Budget Breakdown\n",
              "\n",
              "- **Product Development and Packaging**: $400 \n",
              "  - (Reduced from $500 to allocate funds elsewhere)\n",
              "- **Digital Marketing**: $600 \n",
              "  - (Reduced from $700)\n",
              "- **Influencer Collaborations**: $400 \n",
              "  - (Remains the same)\n",
              "- **Contests/Giveaways**: $300 \n",
              "  - (Increased to allow for more engaging activities)\n",
              "- **Offline Marketing (School Flyers/Events)**: $300 \n",
              "  - (Increased to allow for materials or small sponsorships)\n",
              "\n",
              "### Total: $2000\n",
              "\n",
              "### Marketing Strategy Using Revised Budget\n",
              "\n",
              "1. **Digital Marketing:**\n",
              "   - Continue focusing on social media channels (Instagram, Facebook, and TikTok). Create a content calendar that ensures consistent posting but at a reduced ad spend.\n",
              "   - Use organic reach through engaging posts, stories, and user-generated content while dedicating a smaller budget for boosting select posts.\n",
              "\n",
              "2. **Influencer Marketing:**\n",
              "   - Leverage micro-influencers, who may charge lower fees or be open to partnerships in exchange for free products. This allows you to maintain a budget-friendly approach while reaching niche markets.\n",
              "\n",
              "3. **Contests and Giveaways:**\n",
              "   - Increase the budget for contests to encourage sharing and engagement. This will create buzz and drive traffic while incentivizing parents to involve their kids.\n",
              "\n",
              "4. **Offline Marketing:**\n",
              "   - With the adjusted funding, you will have more capacity to design attractive flyers and possibly establish contact with local schools for collaborative opportunities for sponsorships or product testing events.\n",
              "\n",
              "### Implementation Tips\n",
              "- Focus on impactful visuals for digital and offline materials that appeal to both children and parents.\n",
              "- Use community-oriented content that emphasizes the benefits of hydration for kids, especially in school settings.\n",
              "- Monitor budget allocation closely throughout the campaign to ensure no category exceeds its allocated funds.\n",
              "\n",
              "By adjusting the budget allocation without compromising the overall marketing approach, we can effectively reach the target audience and maximize visibility for the water bottle."
            ],
            "text/plain": [
              "<IPython.core.display.Markdown object>"
            ]
          },
          "metadata": {},
          "output_type": "display_data"
        }
      ],
      "source": [
        "display(Markdown(chat_results[0].summary))"
      ]
    },
    {
      "cell_type": "code",
      "execution_count": null,
      "id": "3a181853-9d7c-4acd-8eb0-cc73d21de6d0",
      "metadata": {
        "id": "3a181853-9d7c-4acd-8eb0-cc73d21de6d0",
        "outputId": "7538f8d3-5636-4ae3-ff4f-c1fb720da906"
      },
      "outputs": [
        {
          "data": {
            "text/markdown": [
              "### Target Audience: Parents of Kids 6-12 Years Old\n",
              "### Product: Eco-Friendly Kids Water Bottle\n",
              "### Channel: Instagram\n",
              "\n",
              "---\n",
              "\n",
              "🌟 **Hydration Heroes Unite!** 🌟\n",
              "\n",
              "As parents, we all want our kids to stay active, healthy, and hydrated! 🌊💦 Introducing our Eco-Friendly Kids Water Bottle — the perfect companion for every adventure, from school days to weekend outings. \n",
              "\n",
              "But wait, we're sweetening the deal! 🎉\n",
              "\n",
              "✨ **Join Our Fun-Filled Giveaway!** ✨  \n",
              "We're on a mission to keep every child hydrated, and we need your help! Enter to win 1 of 5 free Eco-Friendly Kids Water Bottles that come in vibrant colors and fun designs! \n",
              "\n",
              "**How to Enter:**  \n",
              "1️⃣ Follow us on Instagram  \n",
              "2️⃣ Like this post  \n",
              "3️⃣ Tag 3 friends & share your kiddo’s favorite hydration moment in the comments! 💬\n",
              "\n",
              "🌱 **Why Choose Us?** \n",
              "Our bottles are not only designed with fun in mind, but they are also made of sustainable materials that are safe for your little ones and the planet! Encourage your kids to drink up with the stylish designs that make hydration cool! 🤩\n",
              "\n",
              "📅 **Gain More Chances to Win!**  \n",
              "For every entry you submit, you’ll also receive an extra boost when you share this post in your stories — just remember to tag us! \n",
              "\n",
              "📚 **Offline Touchpoint:**  \n",
              "We’re excited to partner with local schools to bring awareness about staying hydrated! Keep an eye out for our colorful flyers and donations to support school events!\n",
              "\n",
              "Let’s make hydration a fun and eco-friendly adventure together! Ready to let your child shine as a Hydration Hero? Get started now!\n",
              "\n",
              "ℹ️ **Contest Ends:** [Insert Date]  \n",
              "🔗 **Link in Bio for Terms & Conditions**\n",
              "\n",
              "---\n",
              "\n",
              "**Implementation Tip:** Use vibrant images of kids enjoying the water bottles in various settings (school, park, sports) and create Instagram Stories highlighting hydration tips for kids. This will not only resonate with parents but also align perfectly with our eco-friendly message!"
            ],
            "text/plain": [
              "<IPython.core.display.Markdown object>"
            ]
          },
          "metadata": {},
          "output_type": "display_data"
        }
      ],
      "source": [
        "display(Markdown(chat_results[1].summary))"
      ]
    },
    {
      "cell_type": "code",
      "execution_count": null,
      "id": "277bce0a-3820-4cea-a6f3-fadfdd2c08d0",
      "metadata": {
        "id": "277bce0a-3820-4cea-a6f3-fadfdd2c08d0"
      },
      "outputs": [],
      "source": []
    },
    {
      "cell_type": "markdown",
      "id": "46ca2929-c22f-478c-b4b8-88f59a475954",
      "metadata": {
        "id": "46ca2929-c22f-478c-b4b8-88f59a475954"
      },
      "source": [
        "- Tool Use: To help Agents integrate tools for task execution.\n",
        "- Code Execution: To allow agents to execute code to solve problems."
      ]
    },
    {
      "cell_type": "code",
      "execution_count": null,
      "id": "2d5a1f0e-e2d5-4717-9883-081b292c6c2d",
      "metadata": {
        "id": "2d5a1f0e-e2d5-4717-9883-081b292c6c2d"
      },
      "outputs": [],
      "source": []
    }
  ],
  "metadata": {
    "kernelspec": {
      "display_name": "Python 3 (ipykernel)",
      "language": "python",
      "name": "python3"
    },
    "language_info": {
      "codemirror_mode": {
        "name": "ipython",
        "version": 3
      },
      "file_extension": ".py",
      "mimetype": "text/x-python",
      "name": "python",
      "nbconvert_exporter": "python",
      "pygments_lexer": "ipython3",
      "version": "3.12.4"
    },
    "colab": {
      "provenance": []
    }
  },
  "nbformat": 4,
  "nbformat_minor": 5
}